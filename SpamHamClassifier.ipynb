{
 "cells": [
  {
   "cell_type": "code",
   "execution_count": 5,
   "metadata": {},
   "outputs": [
    {
     "name": "stderr",
     "output_type": "stream",
     "text": [
      "[nltk_data] Downloading package wordnet to\n",
      "[nltk_data]     C:\\Users\\lenovo\\AppData\\Roaming\\nltk_data...\n",
      "[nltk_data]   Package wordnet is already up-to-date!\n"
     ]
    }
   ],
   "source": [
    "import numpy as np\n",
    "import pandas as pd\n",
    "import matplotlib.pyplot as plt\n",
    "import seaborn as sns\n",
    "%matplotlib inline\n",
    "from sklearn.model_selection import train_test_split\n",
    "from sklearn.feature_extraction.text import CountVectorizer\n",
    "import nltk\n",
    "import re\n",
    "from nltk.stem import WordNetLemmatizer\n",
    "nltk.download('wordnet')\n",
    "lemmatizer = WordNetLemmatizer()\n",
    "from sklearn.naive_bayes import MultinomialNB\n",
    "from sklearn.metrics import accuracy_score,confusion_matrix\n",
    "import pickle"
   ]
  },
  {
   "cell_type": "code",
   "execution_count": 6,
   "metadata": {},
   "outputs": [],
   "source": [
    "#loading the dataset\n",
    "dataset = pd.read_csv(\"Dataset.csv\",encoding=\"latin\",names=['Labels','Messeges'])"
   ]
  },
  {
   "cell_type": "code",
   "execution_count": 7,
   "metadata": {},
   "outputs": [],
   "source": [
    "#let's seperate dependent and independent varibles \n",
    "x = dataset['Messeges']\n",
    "y = dataset['Labels']"
   ]
  },
  {
   "cell_type": "code",
   "execution_count": 8,
   "metadata": {},
   "outputs": [],
   "source": [
    "#creating corpus from the dataset\n",
    "\n",
    "def Create_Corpus(x):\n",
    "  corpus = []\n",
    "\n",
    "  for i in range(len(x)):\n",
    "\n",
    "    #don't to do not\n",
    "    message = re.sub(pattern='don\\'t',repl=\"do not\",string=x.get(i))\n",
    "\n",
    "    #won't to will not\n",
    "    message = re.sub(pattern='won\\'t',repl=\"will not\",string=message)\n",
    "\n",
    "    #Keeping only alphabetical words, removing special characters and numbers\n",
    "    message = re.sub(pattern='[^a-zA-Z]',repl=' ',string=message)\n",
    "\n",
    "    #To Lowercase\n",
    "    message = message.lower()\n",
    "\n",
    "    #spliting the sentence in words \n",
    "    words = message.split()\n",
    "\n",
    "    #using lemmatizer\n",
    "    words = [lemmatizer.lemmatize(word) for word in words]\n",
    "\n",
    "    sentence = ' '.join(words)\n",
    "    corpus.append(sentence)\n",
    "  return corpus\n",
    "\n",
    "corpus = Create_Corpus(x)"
   ]
  },
  {
   "cell_type": "code",
   "execution_count": 11,
   "metadata": {},
   "outputs": [],
   "source": [
    "#featurization using bag of words\n",
    "cv = CountVectorizer(max_features=3000)\n",
    "X = cv.fit_transform(corpus)"
   ]
  },
  {
   "cell_type": "code",
   "execution_count": 12,
   "metadata": {},
   "outputs": [],
   "source": [
    "#splitting the data\n",
    "x_train, x_test, y_train, y_test = train_test_split(X,y,test_size=0.20,random_state=0)"
   ]
  },
  {
   "cell_type": "code",
   "execution_count": 13,
   "metadata": {},
   "outputs": [
    {
     "data": {
      "text/plain": [
       "MultinomialNB(alpha=1.0, class_prior=None, fit_prior=True)"
      ]
     },
     "execution_count": 13,
     "metadata": {},
     "output_type": "execute_result"
    }
   ],
   "source": [
    "#building the model\n",
    "nb = MultinomialNB()\n",
    "nb.fit(x_train,y_train)"
   ]
  },
  {
   "cell_type": "code",
   "execution_count": 14,
   "metadata": {},
   "outputs": [],
   "source": [
    "#predicting for test data\n",
    "y_pred = nb.predict(x_test)"
   ]
  },
  {
   "cell_type": "code",
   "execution_count": 15,
   "metadata": {},
   "outputs": [],
   "source": [
    "#accuracy matrics\n",
    "acc = accuracy_score(y_test,y_pred)\n",
    "conf_mat = confusion_matrix(y_test,y_pred)"
   ]
  },
  {
   "cell_type": "code",
   "execution_count": 16,
   "metadata": {},
   "outputs": [],
   "source": [
    "transform_file = \"transform.pkl\"\n",
    "model_file = \"model.pkl\"\n",
    "pickle.dump(cv,open(transform_file,\"wb\"))\n",
    "pickle.dump(nb,open(model_file,\"wb\"))"
   ]
  },
  {
   "cell_type": "code",
   "execution_count": null,
   "metadata": {},
   "outputs": [],
   "source": []
  }
 ],
 "metadata": {
  "kernelspec": {
   "display_name": "Python 3",
   "language": "python",
   "name": "python3"
  },
  "language_info": {
   "codemirror_mode": {
    "name": "ipython",
    "version": 3
   },
   "file_extension": ".py",
   "mimetype": "text/x-python",
   "name": "python",
   "nbconvert_exporter": "python",
   "pygments_lexer": "ipython3",
   "version": "3.7.4"
  }
 },
 "nbformat": 4,
 "nbformat_minor": 2
}
